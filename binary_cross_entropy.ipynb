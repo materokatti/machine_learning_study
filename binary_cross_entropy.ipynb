{
  "cells": [
    {
      "cell_type": "markdown",
      "metadata": {
        "colab_type": "text",
        "id": "view-in-github"
      },
      "source": [
        "<a href=\"https://colab.research.google.com/github/materokatti/machine_learning_study/blob/main/binary_cross_entropy.ipynb\" target=\"_parent\"><img src=\"https://colab.research.google.com/assets/colab-badge.svg\" alt=\"Open In Colab\"/></a>"
      ]
    },
    {
      "cell_type": "markdown",
      "metadata": {
        "id": "f1a06ttmY7Qw"
      },
      "source": [
        "# Loss function"
      ]
    },
    {
      "cell_type": "markdown",
      "metadata": {
        "id": "_MnJd-5FcpRe"
      },
      "source": [
        "$$f_\n",
        "\\text{loss}(f_{\\mathbf{w},b}(\\mathbf{x}^{(i)}), y^{(i)}) =\n",
        "\\begin{cases}\n",
        "- \\log(f_{\\mathbf{w},b}(\\mathbf{x}^{(i)})) & \\text{if } y^{(i)} = 1 \\\\\n",
        "- \\log(1 - f_{\\mathbf{w},b}(\\mathbf{x}^{(i)})) & \\text{if } y^{(i)} = 0\n",
        "\\end{cases}\n",
        "$$"
      ]
    },
    {
      "cell_type": "markdown",
      "metadata": {
        "id": "Sb2uNbgMYvs7"
      },
      "source": [
        "## Tools"
      ]
    },
    {
      "cell_type": "code",
      "execution_count": 1,
      "metadata": {
        "id": "aMHZncVCzkww"
      },
      "outputs": [
        {
          "name": "stderr",
          "output_type": "stream",
          "text": [
            "Matplotlib is building the font cache; this may take a moment.\n"
          ]
        }
      ],
      "source": [
        "# 필요한 라이브러리 불러오기\n",
        "import numpy as np\n",
        "import matplotlib.pyplot as plt"
      ]
    },
    {
      "cell_type": "markdown",
      "metadata": {
        "id": "HVtDRWjmzqFU"
      },
      "source": [
        "## Code"
      ]
    },
    {
      "cell_type": "code",
      "execution_count": null,
      "metadata": {
        "colab": {
          "base_uri": "https://localhost:8080/",
          "height": 827
        },
        "id": "i_2hrnp0Y21Z",
        "outputId": "f5e84fe8-514b-483c-c490-f2d200c75c5b"
      },
      "outputs": [],
      "source": [
        "# 예측 확률값 (0부터 1까지)\n",
        "y_hat = np.linspace(0.001, 0.999, 100)\n",
        "\n",
        "# 실제 정답 y가 1일 때와 0일 때의 손실 계산\n",
        "loss_y_1 = -np.log(y_hat)             # 정답이 1일 때\n",
        "loss_y_0 = -np.log(1 - y_hat)         # 정답이 0일 때\n",
        "\n",
        "# 그래프 그리기\n",
        "plt.figure(figsize=(8, 6))\n",
        "plt.plot(y_hat, loss_y_1, label='Loss when y = 1', linewidth=2)\n",
        "plt.plot(y_hat, loss_y_0, label='Loss when y = 0', linewidth=2)\n",
        "plt.xlabel('예측 확률 $\\hat{y}$', fontsize=13)\n",
        "plt.ylabel('Loss', fontsize=13)\n",
        "plt.title('Binary Cross Entropy Loss 그래프', fontsize=15)\n",
        "plt.legend()\n",
        "plt.grid(True)\n",
        "plt.show()"
      ]
    }
  ],
  "metadata": {
    "colab": {
      "authorship_tag": "ABX9TyOgHUJ1vOEIxGOycleQcdS4",
      "include_colab_link": true,
      "provenance": []
    },
    "kernelspec": {
      "display_name": "venv",
      "language": "python",
      "name": "python3"
    },
    "language_info": {
      "codemirror_mode": {
        "name": "ipython",
        "version": 3
      },
      "file_extension": ".py",
      "mimetype": "text/x-python",
      "name": "python",
      "nbconvert_exporter": "python",
      "pygments_lexer": "ipython3",
      "version": "3.13.3"
    }
  },
  "nbformat": 4,
  "nbformat_minor": 0
}
